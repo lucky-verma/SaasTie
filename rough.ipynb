{
 "cells": [
  {
   "cell_type": "code",
   "execution_count": null,
   "metadata": {},
   "outputs": [],
   "source": []
  }
 ],
 "metadata": {
  "kernelspec": {
   "display_name": "Python 3.11.0 64-bit",
   "language": "python",
   "name": "python3"
  },
  "language_info": {
   "name": "python",
   "version": "3.11.0"
  },
  "orig_nbformat": 4,
  "vscode": {
   "interpreter": {
    "hash": "5c48ffb3028fb3960e9863996ca56be3489b7b55977f6285ffc8b5681d16e2c7"
   }
  }
 },
 "nbformat": 4,
 "nbformat_minor": 2
}
