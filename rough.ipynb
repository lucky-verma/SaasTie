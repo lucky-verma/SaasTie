{
 "cells": [
  {
   "cell_type": "code",
   "execution_count": 5,
   "metadata": {},
   "outputs": [],
   "source": [
    "import logging\n",
    "import warnings\n",
    "warnings.filterwarnings(\"ignore\") # ignore warnings\n",
    "logging.getLogger(\"transformers.tokenization_utils_base\").setLevel(logging.ERROR)\n",
    "\n",
    "from transformers import TrOCRProcessor, VisionEncoderDecoderModel, pipeline\n",
    "from PIL import Image\n"
   ]
  },
  {
   "cell_type": "code",
   "execution_count": 6,
   "metadata": {},
   "outputs": [],
   "source": [
    "# question phrases\n",
    "q_phrase = [\"DL no.\", \"expiry date\", \"name\", \"address\", \"date of birth\", \"sex\"]\n"
   ]
  },
  {
   "cell_type": "code",
   "execution_count": 7,
   "metadata": {},
   "outputs": [],
   "source": [
    "def image_to_text(cropped_image):\n",
    "    processor = TrOCRProcessor.from_pretrained('microsoft/trocr-base-printed')\n",
    "    model = VisionEncoderDecoderModel.from_pretrained('microsoft/trocr-base-printed')\n",
    "    pixel_values = processor(images=cropped_image, return_tensors=\"pt\").pixel_values\n",
    "\n",
    "    generated_ids = model.generate(pixel_values)\n",
    "    generated_text = processor.batch_decode(generated_ids,\n",
    "                                            skip_special_tokens=True)[0]\n",
    "    return generated_text\n",
    "\n",
    "\n",
    "def text_to_answer(text, bbox_label=None):\n",
    "    model_name = \"deepset/roberta-base-squad2\"\n",
    "    nlp = pipeline('question-answering',\n",
    "                   model=model_name,\n",
    "                   tokenizer=model_name)\n",
    "\n",
    "    if bbox_label is None:\n",
    "        bbox_label = q_phrase[0]\n",
    "    elif bbox_label == \"dl\":\n",
    "        bbox_label = q_phrase[0]\n",
    "    elif bbox_label == \"expiry\":\n",
    "        bbox_label = q_phrase[1]\n",
    "    elif bbox_label == \"name\":\n",
    "        bbox_label = q_phrase[2]\n",
    "    elif bbox_label == \"address\":\n",
    "        bbox_label = q_phrase[3]\n",
    "    elif bbox_label == \"dob\":\n",
    "        bbox_label = q_phrase[4]\n",
    "    elif bbox_label == \"gender\":\n",
    "        bbox_label = q_phrase[5]\n",
    "\n",
    "    QA_input = {\n",
    "        'question': \"What is {}?\".format(bbox_label),\n",
    "        'context': '{}'.format(text.lower())\n",
    "    }\n",
    "    return nlp(QA_input)\n",
    "\n",
    "\n",
    "def image_to_answer(cropped_image, bbox_label=None):\n",
    "    text = image_to_text(cropped_image)\n",
    "    answer = text_to_answer(text, bbox_label)\n",
    "    return answer"
   ]
  },
  {
   "cell_type": "code",
   "execution_count": 8,
   "metadata": {},
   "outputs": [
    {
     "name": "stderr",
     "output_type": "stream",
     "text": [
      "The size parameter should be a dictionary with keys ('height', 'width'), ('shortest_edge', 'longest_edge') or ('shortest_edge',) got 384. Setting as {'height': 384, 'width': 384}.\n",
      "Some weights of VisionEncoderDecoderModel were not initialized from the model checkpoint at microsoft/trocr-base-printed and are newly initialized: ['encoder.pooler.dense.bias', 'encoder.pooler.dense.weight']\n",
      "You should probably TRAIN this model on a down-stream task to be able to use it for predictions and inference.\n",
      "The attention mask and the pad token id were not set. As a consequence, you may observe unexpected behavior. Please pass your input's `attention_mask` to obtain reliable results.\n",
      "Setting `pad_token_id` to `eos_token_id`:2 for open-end generation.\n"
     ]
    },
    {
     "name": "stdout",
     "output_type": "stream",
     "text": [
      "08/31/1977\n"
     ]
    }
   ],
   "source": [
    "# Driver code\n",
    "crop_img = Image.open(r\"./screenshot_5.png\").convert(\"RGB\")\n",
    "\n",
    "# use bbox_label to specify the question phrase [dl, expiry, name, address, dob, gender] according to the cropped image\n",
    "result = image_to_answer(crop_img, bbox_label=\"dob\")['answer']\n",
    "print(result)"
   ]
  },
  {
   "cell_type": "code",
   "execution_count": null,
   "metadata": {},
   "outputs": [],
   "source": []
  }
 ],
 "metadata": {
  "kernelspec": {
   "display_name": "Python 3.7.13 ('donut')",
   "language": "python",
   "name": "python3"
  },
  "language_info": {
   "codemirror_mode": {
    "name": "ipython",
    "version": 3
   },
   "file_extension": ".py",
   "mimetype": "text/x-python",
   "name": "python",
   "nbconvert_exporter": "python",
   "pygments_lexer": "ipython3",
   "version": "3.7.13"
  },
  "orig_nbformat": 4,
  "vscode": {
   "interpreter": {
    "hash": "68a6eb6064f56748220eeb8ab9b43836193ee1e182e8bfae67a4e848ff0f0163"
   }
  }
 },
 "nbformat": 4,
 "nbformat_minor": 2
}
